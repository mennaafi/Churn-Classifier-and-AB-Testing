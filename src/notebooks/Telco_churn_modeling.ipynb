{
 "cells": [
  {
   "cell_type": "markdown",
   "id": "4eaec4b2",
   "metadata": {},
   "source": [
    "<center><h1><strong>Feature Engineering and Preprcessing    </strong></h1></center>"
   ]
  },
  {
   "cell_type": "markdown",
   "id": "1e98a75b",
   "metadata": {},
   "source": [
    "### **Importing Libraries :**"
   ]
  },
  {
   "cell_type": "code",
   "execution_count": 2,
   "id": "bdc2799b",
   "metadata": {},
   "outputs": [],
   "source": [
    "import pandas as pd \n",
    "import numpy as np \n",
    "import matplotlib.pyplot as plt \n",
    "import seaborn as sns\n",
    "import sys\n",
    "import os"
   ]
  },
  {
   "cell_type": "markdown",
   "id": "9f60531d",
   "metadata": {},
   "source": [
    "-  Adding src package path to avoid some errors"
   ]
  },
  {
   "cell_type": "code",
   "execution_count": 3,
   "id": "42b1d6af",
   "metadata": {},
   "outputs": [],
   "source": [
    "src_path = os.path.abspath(os.path.join(os.getcwd(), '..'))\n",
    "if src_path not in sys.path:\n",
    "    sys.path.append(src_path)"
   ]
  },
  {
   "cell_type": "markdown",
   "id": "c991a034",
   "metadata": {},
   "source": [
    "### **Some Styles** :"
   ]
  },
  {
   "cell_type": "code",
   "execution_count": 4,
   "id": "93aa1bc6",
   "metadata": {},
   "outputs": [],
   "source": [
    "pd.set_option(\"display.max_columns\", None)\n",
    "pd.set_option(\"display.max_colwidth\", None)\n",
    "\n",
    "plt.style.use(\"seaborn-v0_8\")"
   ]
  },
  {
   "cell_type": "markdown",
   "id": "91cd9ff3",
   "metadata": {},
   "source": [
    "### **Remove Warning :**"
   ]
  },
  {
   "cell_type": "code",
   "execution_count": 5,
   "id": "acb7649a",
   "metadata": {},
   "outputs": [],
   "source": [
    "import warnings\n",
    "warnings.simplefilter(action='ignore', category=FutureWarning)"
   ]
  },
  {
   "cell_type": "markdown",
   "id": "20e57256",
   "metadata": {},
   "source": [
    "### **Importing custom modules :**"
   ]
  },
  {
   "cell_type": "code",
   "execution_count": 6,
   "id": "eba4c7eb",
   "metadata": {},
   "outputs": [],
   "source": [
    "from preprocessing.FeatureEngineering import Cleaning\n",
    "from preprocessing.Preprocessing import CustomImputer, CustomTransformer, CustomScaler, CustomEncoder"
   ]
  },
  {
   "cell_type": "markdown",
   "id": "88924db7",
   "metadata": {},
   "source": [
    "### **Our data :**"
   ]
  },
  {
   "cell_type": "code",
   "execution_count": 7,
   "id": "c4455ccc",
   "metadata": {},
   "outputs": [
    {
     "data": {
      "text/html": [
       "<div>\n",
       "<style scoped>\n",
       "    .dataframe tbody tr th:only-of-type {\n",
       "        vertical-align: middle;\n",
       "    }\n",
       "\n",
       "    .dataframe tbody tr th {\n",
       "        vertical-align: top;\n",
       "    }\n",
       "\n",
       "    .dataframe thead th {\n",
       "        text-align: right;\n",
       "    }\n",
       "</style>\n",
       "<table border=\"1\" class=\"dataframe\">\n",
       "  <thead>\n",
       "    <tr style=\"text-align: right;\">\n",
       "      <th></th>\n",
       "      <th>customerID</th>\n",
       "      <th>gender</th>\n",
       "      <th>SeniorCitizen</th>\n",
       "      <th>Partner</th>\n",
       "      <th>Dependents</th>\n",
       "      <th>tenure</th>\n",
       "      <th>PhoneService</th>\n",
       "      <th>MultipleLines</th>\n",
       "      <th>InternetService</th>\n",
       "      <th>OnlineSecurity</th>\n",
       "      <th>OnlineBackup</th>\n",
       "      <th>DeviceProtection</th>\n",
       "      <th>TechSupport</th>\n",
       "      <th>StreamingTV</th>\n",
       "      <th>StreamingMovies</th>\n",
       "      <th>Contract</th>\n",
       "      <th>PaperlessBilling</th>\n",
       "      <th>PaymentMethod</th>\n",
       "      <th>MonthlyCharges</th>\n",
       "      <th>TotalCharges</th>\n",
       "      <th>Churn</th>\n",
       "    </tr>\n",
       "  </thead>\n",
       "  <tbody>\n",
       "    <tr>\n",
       "      <th>0</th>\n",
       "      <td>7590-VHVEG</td>\n",
       "      <td>Female</td>\n",
       "      <td>0</td>\n",
       "      <td>Yes</td>\n",
       "      <td>No</td>\n",
       "      <td>1</td>\n",
       "      <td>No</td>\n",
       "      <td>No phone service</td>\n",
       "      <td>DSL</td>\n",
       "      <td>No</td>\n",
       "      <td>Yes</td>\n",
       "      <td>No</td>\n",
       "      <td>No</td>\n",
       "      <td>No</td>\n",
       "      <td>No</td>\n",
       "      <td>Month-to-month</td>\n",
       "      <td>Yes</td>\n",
       "      <td>Electronic check</td>\n",
       "      <td>29.85</td>\n",
       "      <td>29.85</td>\n",
       "      <td>No</td>\n",
       "    </tr>\n",
       "    <tr>\n",
       "      <th>1</th>\n",
       "      <td>5575-GNVDE</td>\n",
       "      <td>Male</td>\n",
       "      <td>0</td>\n",
       "      <td>No</td>\n",
       "      <td>No</td>\n",
       "      <td>34</td>\n",
       "      <td>Yes</td>\n",
       "      <td>No</td>\n",
       "      <td>DSL</td>\n",
       "      <td>Yes</td>\n",
       "      <td>No</td>\n",
       "      <td>Yes</td>\n",
       "      <td>No</td>\n",
       "      <td>No</td>\n",
       "      <td>No</td>\n",
       "      <td>One year</td>\n",
       "      <td>No</td>\n",
       "      <td>Mailed check</td>\n",
       "      <td>56.95</td>\n",
       "      <td>1889.5</td>\n",
       "      <td>No</td>\n",
       "    </tr>\n",
       "    <tr>\n",
       "      <th>2</th>\n",
       "      <td>3668-QPYBK</td>\n",
       "      <td>Male</td>\n",
       "      <td>0</td>\n",
       "      <td>No</td>\n",
       "      <td>No</td>\n",
       "      <td>2</td>\n",
       "      <td>Yes</td>\n",
       "      <td>No</td>\n",
       "      <td>DSL</td>\n",
       "      <td>Yes</td>\n",
       "      <td>Yes</td>\n",
       "      <td>No</td>\n",
       "      <td>No</td>\n",
       "      <td>No</td>\n",
       "      <td>No</td>\n",
       "      <td>Month-to-month</td>\n",
       "      <td>Yes</td>\n",
       "      <td>Mailed check</td>\n",
       "      <td>53.85</td>\n",
       "      <td>108.15</td>\n",
       "      <td>Yes</td>\n",
       "    </tr>\n",
       "  </tbody>\n",
       "</table>\n",
       "</div>"
      ],
      "text/plain": [
       "   customerID  gender  SeniorCitizen Partner Dependents  tenure PhoneService  \\\n",
       "0  7590-VHVEG  Female              0     Yes         No       1           No   \n",
       "1  5575-GNVDE    Male              0      No         No      34          Yes   \n",
       "2  3668-QPYBK    Male              0      No         No       2          Yes   \n",
       "\n",
       "      MultipleLines InternetService OnlineSecurity OnlineBackup  \\\n",
       "0  No phone service             DSL             No          Yes   \n",
       "1                No             DSL            Yes           No   \n",
       "2                No             DSL            Yes          Yes   \n",
       "\n",
       "  DeviceProtection TechSupport StreamingTV StreamingMovies        Contract  \\\n",
       "0               No          No          No              No  Month-to-month   \n",
       "1              Yes          No          No              No        One year   \n",
       "2               No          No          No              No  Month-to-month   \n",
       "\n",
       "  PaperlessBilling     PaymentMethod  MonthlyCharges TotalCharges Churn  \n",
       "0              Yes  Electronic check           29.85        29.85    No  \n",
       "1               No      Mailed check           56.95       1889.5    No  \n",
       "2              Yes      Mailed check           53.85       108.15   Yes  "
      ]
     },
     "execution_count": 7,
     "metadata": {},
     "output_type": "execute_result"
    }
   ],
   "source": [
    "data_path = \"../../data/Telco-Customer-Churn.csv\"\n",
    "df = pd.read_csv(data_path)\n",
    "df.head(3)"
   ]
  },
  {
   "cell_type": "markdown",
   "id": "d49d6a24",
   "metadata": {},
   "source": [
    "### **Previously, we noticed a `skewness` problem with the `TotalCharges` column**"
   ]
  },
  {
   "cell_type": "markdown",
   "id": "7591ca32",
   "metadata": {},
   "source": [
    "#### **Let's try to fix :**"
   ]
  },
  {
   "cell_type": "markdown",
   "id": "28c47715",
   "metadata": {},
   "source": [
    "##### **Cleaning on the column before :**"
   ]
  },
  {
   "cell_type": "code",
   "execution_count": 8,
   "id": "8a80e527",
   "metadata": {},
   "outputs": [],
   "source": [
    "df_cpy = df.copy()\n",
    "\n",
    "replacements = {\n",
    "                  'TotalCharges': {' ': np.nan}\n",
    "            }\n",
    "df_cpy = Cleaning.replace_values(df_cpy, replacements=replacements)\n",
    "imputer = CustomImputer(median_cols=['TotalCharges'])\n",
    "df_cpy = imputer.fit_transform(df_cpy)\n",
    "dtype_map = {\n",
    "              'TotalCharges': 'numeric'\n",
    "               }\n",
    "df_cpy = Cleaning.convert_columns_dtype(X=df_cpy, dtype_map=dtype_map)"
   ]
  },
  {
   "cell_type": "markdown",
   "id": "0d2c19a7",
   "metadata": {},
   "source": [
    "### **Skewness** :"
   ]
  },
  {
   "cell_type": "code",
   "execution_count": 9,
   "id": "41fe691d",
   "metadata": {},
   "outputs": [],
   "source": [
    "original = df_cpy['TotalCharges'].copy()\n",
    "\n",
    "transformer = CustomTransformer(method='yeo-johnson', columns=['TotalCharges'])\n",
    "transformer.fit(df_cpy)\n",
    "df_transformed = transformer.transform(df_cpy.copy())"
   ]
  },
  {
   "cell_type": "markdown",
   "id": "4e4611e7",
   "metadata": {},
   "source": [
    "#### **Before transfomation :**"
   ]
  },
  {
   "cell_type": "code",
   "execution_count": 10,
   "id": "1a7b64ca",
   "metadata": {},
   "outputs": [
    {
     "data": {
      "text/plain": [
       "<Axes: xlabel='TotalCharges', ylabel='Density'>"
      ]
     },
     "execution_count": 10,
     "metadata": {},
     "output_type": "execute_result"
    },
    {
     "data": {
      "image/png": "[encoded data removed]",
      "text/plain": [
       "<Figure size 800x550 with 1 Axes>"
      ]
     },
     "metadata": {},
     "output_type": "display_data"
    }
   ],
   "source": [
    "sns.kdeplot(original, fill=True, color='blue')"
   ]
  },
  {
   "cell_type": "markdown",
   "id": "fc5c681e",
   "metadata": {},
   "source": [
    "#### **After transfomation :**"
   ]
  },
  {
   "cell_type": "code",
   "execution_count": 11,
   "id": "147899ea",
   "metadata": {},
   "outputs": [
    {
     "data": {
      "text/plain": [
       "<Axes: xlabel='TotalCharges', ylabel='Density'>"
      ]
     },
     "execution_count": 11,
     "metadata": {},
     "output_type": "execute_result"
    },
    {
     "data": {
      "image/png": "[encoded data removed]",
      "text/plain": [
       "<Figure size 800x550 with 1 Axes>"
      ]
     },
     "metadata": {},
     "output_type": "display_data"
    }
   ],
   "source": [
    "sns.kdeplot(df_transformed['TotalCharges'], fill=True, color='red')"
   ]
  },
  {
   "cell_type": "markdown",
   "id": "ee63899f",
   "metadata": {},
   "source": [
    "> - #### **I think it's very good looks like a `normal distribution`**\n",
    "> - #### **Later, I will add this step in my pipeline**"
   ]
  },
  {
   "cell_type": "markdown",
   "id": "90fa1401",
   "metadata": {},
   "source": [
    "### **Let's see Features Importance** :"
   ]
  },
  {
   "cell_type": "markdown",
   "id": "3bc02f32",
   "metadata": {},
   "source": [
    "#### **Basic preprocessing** :"
   ]
  },
  {
   "cell_type": "code",
   "execution_count": 12,
   "id": "62955475",
   "metadata": {},
   "outputs": [],
   "source": [
    "from sklearn.model_selection import train_test_split\n",
    "\n",
    "df_copy = df.copy()\n",
    "x = df_copy.drop(['Churn'],axis=1)\n",
    "y = df_copy[['Churn']]\n",
    "\n",
    "X_train, X_test, y_train, y_test = train_test_split(x, y, test_size=0.2, random_state=42)"
   ]
  },
  {
   "cell_type": "code",
   "execution_count": 13,
   "id": "76ad59d1",
   "metadata": {},
   "outputs": [],
   "source": [
    "X_train_copy = X_train.copy()\n",
    "y_train_copy = y_train.copy()"
   ]
  },
  {
   "cell_type": "code",
   "execution_count": 14,
   "id": "e809c9db",
   "metadata": {},
   "outputs": [
    {
     "name": "stdout",
     "output_type": "stream",
     "text": [
      "(5634, 20)\n",
      "(5634, 1)\n"
     ]
    }
   ],
   "source": [
    "print(X_train_copy.shape)\n",
    "print(y_train_copy.shape)"
   ]
  },
  {
   "cell_type": "code",
   "execution_count": null,
   "id": "4e28f0f3",
   "metadata": {},
   "outputs": [],
   "source": [
    "X_train_copy = Cleaning.drop_features(X_train_copy, columns=['customerID'])\n",
    "replacements = {\n",
    "                  'TotalCharges': {' ': np.nan}\n",
    "            }\n",
    "X_train_copy = Cleaning.replace_values(X_train_copy, replacements=replacements)\n",
    "imputer = CustomImputer(median_cols=['TotalCharges'])\n",
    "X_train_copy = imputer.fit_transform(X_train_copy)\n",
    "dtype_map = {\n",
    "              'TotalCharges': 'numeric'\n",
    "               }\n",
    "X_train_copy= Cleaning.convert_columns_dtype(X=X_train_copy, dtype_map=dtype_map)\n",
    "transformer = CustomTransformer(method='yeo-johnson', columns=['TotalCharges'])\n",
    "transformer.fit(X_train_copy)\n",
    "X_train_copy = transformer.transform(X_train_copy)\n",
    "\n",
    "label_encoded_features = ['gender', 'SeniorCitizen', 'Partner', 'Dependents', 'PhoneService', 'PaperlessBilling']\n",
    "onehot_encoded_features = ['MultipleLines', 'InternetService', 'OnlineSecurity', 'OnlineBackup','DeviceProtection', 'TechSupport', 'StreamingTV', 'StreamingMovies','Contract', 'PaymentMethod']\n",
    "scaled_features = ['tenure', 'MonthlyCharges', 'TotalCharges']\n",
    "        \n",
    "enc = CustomEncoder(label_cols=label_encoded_features, onehot_cols=onehot_encoded_features)\n",
    "enc.fit(X_train_copy)\n",
    "X_train_copy = enc.transform(X_train_copy)\n",
    "scaler = CustomScaler(scale_cols=scaled_features, scaler_type='standard')\n",
    "scaler.fit(X_train_copy)\n",
    "X_train_copy = scaler.transform(X_train_copy)\n",
    "target_feature = [\"Churn\"]\n",
    "target_enc = CustomEncoder(label_cols=target_feature)\n",
    "target_enc.fit(y_train_copy)\n",
    "y_train_copy = target_enc.transform(y_train_copy)"
   ]
  },
  {
   "cell_type": "code",
   "execution_count": 16,
   "id": "32018520",
   "metadata": {},
   "outputs": [],
   "source": [
    "X_test_copy = X_test.copy()\n",
    "y_test_copy = y_test.copy()"
   ]
  },
  {
   "cell_type": "code",
   "execution_count": 17,
   "id": "172c1992",
   "metadata": {},
   "outputs": [
    {
     "name": "stdout",
     "output_type": "stream",
     "text": [
      "(1409, 20)\n",
      "(1409, 1)\n"
     ]
    }
   ],
   "source": [
    "print(X_test_copy.shape)\n",
    "print(y_test_copy.shape)"
   ]
  },
  {
   "cell_type": "code",
   "execution_count": null,
   "id": "0878ba05",
   "metadata": {},
   "outputs": [],
   "source": [
    "X_test_copy = Cleaning.drop_features(X_test_copy, ['customerID'])\n",
    "\n",
    "replacements = {\n",
    "    'TotalCharges': {' ': np.nan}\n",
    "}\n",
    "X_test_copy = Cleaning.replace_values(X_test_copy, replacements=replacements)\n",
    "X_test_copy = imputer.transform(X_test_copy)\n",
    "X_test_copy = Cleaning.convert_columns_dtype(X=X_test_copy, dtype_map=dtype_map)\n",
    "X_test_copy = transformer.transform(X_test_copy)\n",
    "X_test_copy = enc.transform(X_test_copy)\n",
    "X_test_copy = scaler.transform(X_test_copy)\n",
    "y_test_copy = target_enc.transform(y_test_copy)\n"
   ]
  },
  {
   "cell_type": "code",
   "execution_count": 20,
   "id": "20ee48b6",
   "metadata": {},
   "outputs": [
    {
     "name": "stderr",
     "output_type": "stream",
     "text": [
      "c:\\Users\\user\\AppData\\Local\\Programs\\Python\\Python312\\Lib\\site-packages\\sklearn\\base.py:1152: DataConversionWarning: A column-vector y was passed when a 1d array was expected. Please change the shape of y to (n_samples,), for example using ravel().\n",
      "  return fit_method(estimator, *args, **kwargs)\n"
     ]
    },
    {
     "name": "stdout",
     "output_type": "stream",
     "text": [
      "Feature Importances (Classifier):\n",
      "TotalCharges: 0.2017\n",
      "MonthlyCharges: 0.1682\n",
      "tenure: 0.1666\n",
      "InternetService_Fiber optic: 0.0381\n",
      "PaymentMethod_Electronic check: 0.0376\n",
      "Contract_Two year: 0.0286\n",
      "gender: 0.0285\n",
      "PaperlessBilling: 0.0271\n",
      "OnlineSecurity_Yes: 0.0250\n",
      "Partner: 0.0240\n",
      "TechSupport_Yes: 0.0229\n",
      "Contract_One year: 0.0219\n",
      "OnlineBackup_Yes: 0.0215\n",
      "SeniorCitizen: 0.0205\n",
      "Dependents: 0.0201\n",
      "MultipleLines_Yes: 0.0201\n",
      "DeviceProtection_Yes: 0.0189\n",
      "StreamingMovies_Yes: 0.0180\n",
      "StreamingTV_Yes: 0.0173\n",
      "PaymentMethod_Mailed check: 0.0138\n",
      "PaymentMethod_Credit card (automatic): 0.0135\n",
      "OnlineSecurity_No internet service: 0.0084\n",
      "TechSupport_No internet service: 0.0060\n",
      "StreamingTV_No internet service: 0.0055\n",
      "OnlineBackup_No internet service: 0.0050\n",
      "StreamingMovies_No internet service: 0.0046\n",
      "MultipleLines_No phone service: 0.0044\n",
      "InternetService_No: 0.0043\n",
      "PhoneService: 0.0043\n",
      "DeviceProtection_No internet service: 0.0038\n"
     ]
    }
   ],
   "source": [
    "from sklearn.ensemble import RandomForestClassifier\n",
    "\n",
    "clf = RandomForestClassifier(n_estimators=100, random_state=42)\n",
    "clf.fit(X_train_copy, y_train_copy)\n",
    "\n",
    "importances = clf.feature_importances_\n",
    "features = X_train_copy.columns\n",
    "\n",
    "feat_imp = sorted(zip(features, importances), key=lambda x: x[1], reverse=True)\n",
    "\n",
    "print(\"Feature Importances (Classifier):\")\n",
    "for feature, importance in feat_imp:\n",
    "    print(f\"{feature.strip()}: {importance:.4f}\")"
   ]
  },
  {
   "cell_type": "code",
   "execution_count": 21,
   "id": "0937acdf",
   "metadata": {},
   "outputs": [
    {
     "data": {
      "text/plain": [
       "['TotalCharges',\n",
       " 'MonthlyCharges',\n",
       " 'tenure',\n",
       " 'InternetService_Fiber optic',\n",
       " 'PaymentMethod_Electronic check',\n",
       " 'Contract_Two year',\n",
       " 'gender',\n",
       " 'PaperlessBilling',\n",
       " 'OnlineSecurity_Yes',\n",
       " 'Partner',\n",
       " 'TechSupport_Yes',\n",
       " 'Contract_One year',\n",
       " 'OnlineBackup_Yes',\n",
       " 'SeniorCitizen',\n",
       " 'Dependents',\n",
       " 'MultipleLines_Yes',\n",
       " 'DeviceProtection_Yes',\n",
       " 'StreamingMovies_Yes',\n",
       " 'StreamingTV_Yes',\n",
       " 'PaymentMethod_Mailed check']"
      ]
     },
     "execution_count": 21,
     "metadata": {},
     "output_type": "execute_result"
    }
   ],
   "source": [
    "top_features = pd.Series(importances, index=features).sort_values(ascending=False).head(20).index.tolist()\n",
    "top_features"
   ]
  },
  {
   "cell_type": "markdown",
   "id": "09cc4116",
   "metadata": {},
   "source": [
    "> #### **`Notice :`**\n",
    "> -  **`The top 3 features` with the highest importance are :**\n",
    ">> - TotalCharges\n",
    ">> - tenure\n",
    ">> - MonthlyCharges\n",
    "> - #### **I will think in my pipelines to choose for training the model only on the top N important features to `reduce dimensionality` and  improve generalization or to keep them.**"
   ]
  },
  {
   "cell_type": "markdown",
   "id": "a51a0a9b",
   "metadata": {},
   "source": [
    "<p>&nbsp;</p>"
   ]
  },
  {
   "cell_type": "markdown",
   "id": "8a3103c7",
   "metadata": {},
   "source": [
    "<p>&nbsp;</p>\n"
   ]
  },
  {
   "cell_type": "markdown",
   "id": "7d43b48f",
   "metadata": {},
   "source": [
    "<center><h1><strong>Modeling    </strong></h1></center>"
   ]
  },
  {
   "cell_type": "markdown",
   "id": "42896ce8",
   "metadata": {},
   "source": [
    "### **Baseline :**"
   ]
  },
  {
   "cell_type": "code",
   "execution_count": 22,
   "id": "133a61f7",
   "metadata": {},
   "outputs": [
    {
     "name": "stdout",
     "output_type": "stream",
     "text": [
      "Baseline model achieves accuracy = 0.7352732434350603\n",
      "---------------------------------------------------------\n",
      "Baseline model achieves f1 = 0.0\n",
      "---------------------------------------------------------\n",
      "Baseline model achieves roc_auc = 0.5\n"
     ]
    }
   ],
   "source": [
    "from sklearn.dummy import DummyClassifier\n",
    "from sklearn.metrics import accuracy_score, precision_score, recall_score, f1_score, roc_auc_score\n",
    "\n",
    "base = DummyClassifier(strategy = \"most_frequent\", constant = 0)\n",
    "base.fit(X_train_copy, y_train_copy)\n",
    "y_pred_base = base.predict(X_test_copy)\n",
    "\n",
    "print(f\"Baseline model achieves accuracy = {accuracy_score(y_test_copy, y_pred_base)}\")\n",
    "print(\"---------------------------------------------------------\")\n",
    "print(f\"Baseline model achieves f1 = {f1_score(y_test_copy, y_pred_base)}\")\n",
    "print(\"---------------------------------------------------------\")\n",
    "print(f\"Baseline model achieves roc_auc = {roc_auc_score(y_test_copy, y_pred_base)}\")"
   ]
  },
  {
   "cell_type": "markdown",
   "id": "12c3f153",
   "metadata": {},
   "source": [
    "### **Data Imbalance Problem**"
   ]
  },
  {
   "cell_type": "markdown",
   "id": "97466649",
   "metadata": {},
   "source": [
    "#### **`Let's test different resampling techniques :`**"
   ]
  },
  {
   "cell_type": "code",
   "execution_count": 23,
   "id": "fd4e3e58",
   "metadata": {},
   "outputs": [],
   "source": [
    "from sklearn.model_selection import StratifiedKFold\n",
    "from sklearn.ensemble import RandomForestClassifier\n",
    "from imblearn.over_sampling import RandomOverSampler, SMOTE, ADASYN, BorderlineSMOTE\n",
    "from imblearn.under_sampling import RandomUnderSampler\n",
    "from imblearn.combine import SMOTEENN\n",
    "from imblearn.pipeline import Pipeline\n",
    "\n",
    "resampling_methods = {\n",
    "    'No Sampling': None,\n",
    "    'RandomOverSampler': RandomOverSampler(random_state=42),\n",
    "    'SMOTE': SMOTE(random_state=42),\n",
    "    'ADASYN': ADASYN(random_state=42),\n",
    "    'BorderlineSMOTE': BorderlineSMOTE(random_state=42),\n",
    "    'SMOTEENN': SMOTEENN(random_state=42),\n",
    "    'RandomUnderSampler': RandomUnderSampler(random_state=42)\n",
    "}\n",
    "\n",
    "clf = RandomForestClassifier(random_state=42)\n",
    "skf = StratifiedKFold(n_splits=5, shuffle=True, random_state=42)\n",
    "\n",
    "results = []"
   ]
  },
  {
   "cell_type": "code",
   "execution_count": 24,
   "id": "6ba1a67d",
   "metadata": {},
   "outputs": [
    {
     "name": "stdout",
     "output_type": "stream",
     "text": [
      "\n",
      "------ Cross-Validated Results ------\n",
      "               Method  Accuracy  Precision  Recall  F1-score  ROC-AUC\n",
      "5            SMOTEENN    0.7375     0.5039  0.7988    0.6177   0.8281\n",
      "6  RandomUnderSampler    0.7410     0.5087  0.7420    0.6035   0.8202\n",
      "1   RandomOverSampler    0.7803     0.5893  0.5688    0.5788   0.8170\n",
      "0         No Sampling    0.7877     0.6339  0.4746    0.5427   0.8168\n",
      "2               SMOTE    0.7776     0.5806  0.5836    0.5821   0.8145\n",
      "3              ADASYN    0.7707     0.5652  0.5902    0.5774   0.8119\n",
      "4     BorderlineSMOTE    0.7726     0.5694  0.5889    0.5789   0.8107\n"
     ]
    }
   ],
   "source": [
    "for method_name, sampler in resampling_methods.items():\n",
    "    fold_metrics = {'accuracy': [], 'precision': [], 'recall': [], 'f1': [], 'roc_auc': []}\n",
    "\n",
    "    for train_index, test_index in skf.split(X_train_copy, y_train_copy):  \n",
    "        X_train, X_test = X_train_copy.iloc[train_index], X_train_copy.iloc[test_index]\n",
    "        y_train, y_test = y_train_copy.iloc[train_index], y_train_copy.iloc[test_index]\n",
    "        \n",
    "        y_train = y_train.values.ravel()\n",
    "        y_test = y_test.values.ravel()\n",
    "\n",
    "        if sampler is not None:\n",
    "            pipeline = Pipeline([('sampler', sampler), ('classifier', clf)])\n",
    "        else:\n",
    "            pipeline = Pipeline([('classifier', clf)])\n",
    "\n",
    "        pipeline.fit(X_train, y_train)\n",
    "        y_pred = pipeline.predict(X_test)\n",
    "        y_proba = pipeline.predict_proba(X_test)[:, 1]  \n",
    "\n",
    "        fold_metrics['accuracy'].append(accuracy_score(y_test, y_pred))\n",
    "        fold_metrics['precision'].append(precision_score(y_test, y_pred))\n",
    "        fold_metrics['recall'].append(recall_score(y_test, y_pred))\n",
    "        fold_metrics['f1'].append(f1_score(y_test, y_pred))\n",
    "        fold_metrics['roc_auc'].append(roc_auc_score(y_test, y_proba))\n",
    "\n",
    "    results.append({\n",
    "        'Method': method_name,\n",
    "        'Accuracy': np.mean(fold_metrics['accuracy']),\n",
    "        'Precision': np.mean(fold_metrics['precision']),\n",
    "        'Recall': np.mean(fold_metrics['recall']),\n",
    "        'F1-score': np.mean(fold_metrics['f1']),\n",
    "        'ROC-AUC': np.mean(fold_metrics['roc_auc']),\n",
    "    })\n",
    "\n",
    "results_df = pd.DataFrame(results).sort_values(by='ROC-AUC', ascending=False)\n",
    "print(\"\\n------ Cross-Validated Results ------\")\n",
    "print(results_df.round(4))"
   ]
  },
  {
   "cell_type": "code",
   "execution_count": 25,
   "id": "dd6a5800",
   "metadata": {},
   "outputs": [
    {
     "data": {
      "image/png": "[encoded data removed]",
      "text/plain": [
       "<Figure size 1000x500 with 2 Axes>"
      ]
     },
     "metadata": {},
     "output_type": "display_data"
    }
   ],
   "source": [
    "plt.figure(figsize=(10, 5))\n",
    "\n",
    "plt.subplot(1, 2, 1)\n",
    "sns.countplot(x=y_train_copy.squeeze())\n",
    "plt.title(\"Before Resampling\")\n",
    "plt.xlabel(\"Class\")\n",
    "plt.ylabel(\"Count\")\n",
    "\n",
    "smote_enn = SMOTEENN(random_state=42)\n",
    "X_resampled, y_resampled = smote_enn.fit_resample(X_train_copy, y_train_copy.values.ravel())\n",
    "\n",
    "plt.subplot(1, 2, 2)\n",
    "sns.countplot(x=y_resampled)\n",
    "plt.title(\"After SMOTEENN\")\n",
    "plt.xlabel(\"Class\")\n",
    "plt.ylabel(\"Count\")\n",
    "\n",
    "plt.tight_layout()\n",
    "plt.show()"
   ]
  },
  {
   "cell_type": "markdown",
   "id": "9d80dae6",
   "metadata": {},
   "source": [
    "> - #### **`SMOTEENN` is our first choice**"
   ]
  },
  {
   "cell_type": "markdown",
   "id": "4d78c218",
   "metadata": {},
   "source": [
    "### **We can do this also :**\n",
    "#### **`Equalize the classes :`**"
   ]
  },
  {
   "cell_type": "code",
   "execution_count": 26,
   "id": "67f6686a",
   "metadata": {},
   "outputs": [
    {
     "name": "stdout",
     "output_type": "stream",
     "text": [
      "0    4138\n",
      "1    4138\n",
      "Name: count, dtype: int64\n"
     ]
    }
   ],
   "source": [
    "from imblearn.over_sampling import RandomOverSampler\n",
    "\n",
    "ros = RandomOverSampler(sampling_strategy='not majority', random_state=42)\n",
    "X_resampled, y_resampled = ros.fit_resample(X_train_copy, y_train_copy.values.ravel())\n",
    "\n",
    "print(pd.Series(y_resampled).value_counts())"
   ]
  },
  {
   "cell_type": "code",
   "execution_count": null,
   "id": "8b56213e",
   "metadata": {},
   "outputs": [
    {
     "data": {
      "application/vnd.jupyter.widget-view+json": {
       "model_id": "ef1c60cb1e9c4cdabefd86298ffa513f",
       "version_major": 2,
       "version_minor": 0
      },
      "text/plain": [
       "  0%|          | 0/29 [00:00<?, ?it/s]"
      ]
     },
     "metadata": {},
     "output_type": "display_data"
    },
    {
     "name": "stdout",
     "output_type": "stream",
     "text": [
      "[LightGBM] [Info] Number of positive: 4138, number of negative: 4138\n",
      "[LightGBM] [Info] Auto-choosing row-wise multi-threading, the overhead of testing was 0.002240 seconds.\n",
      "You can set `force_row_wise=true` to remove the overhead.\n",
      "And if memory is not enough, you can set `force_col_wise=true`.\n",
      "[LightGBM] [Info] Total Bins 665\n",
      "[LightGBM] [Info] Number of data points in the train set: 8276, number of used features: 30\n",
      "[LightGBM] [Info] [binary:BoostFromScore]: pavg=0.500000 -> initscore=0.000000\n"
     ]
    },
    {
     "data": {
      "text/html": [
       "<div>\n",
       "<style scoped>\n",
       "    .dataframe tbody tr th:only-of-type {\n",
       "        vertical-align: middle;\n",
       "    }\n",
       "\n",
       "    .dataframe tbody tr th {\n",
       "        vertical-align: top;\n",
       "    }\n",
       "\n",
       "    .dataframe thead th {\n",
       "        text-align: right;\n",
       "    }\n",
       "</style>\n",
       "<table border=\"1\" class=\"dataframe\">\n",
       "  <thead>\n",
       "    <tr style=\"text-align: right;\">\n",
       "      <th></th>\n",
       "      <th>Accuracy</th>\n",
       "      <th>Balanced Accuracy</th>\n",
       "      <th>ROC AUC</th>\n",
       "      <th>F1 Score</th>\n",
       "      <th>Time Taken</th>\n",
       "    </tr>\n",
       "    <tr>\n",
       "      <th>Model</th>\n",
       "      <th></th>\n",
       "      <th></th>\n",
       "      <th></th>\n",
       "      <th></th>\n",
       "      <th></th>\n",
       "    </tr>\n",
       "  </thead>\n",
       "  <tbody>\n",
       "    <tr>\n",
       "      <th>CalibratedClassifierCV</th>\n",
       "      <td>0.77</td>\n",
       "      <td>0.79</td>\n",
       "      <td>0.79</td>\n",
       "      <td>0.78</td>\n",
       "      <td>0.54</td>\n",
       "    </tr>\n",
       "    <tr>\n",
       "      <th>LinearDiscriminantAnalysis</th>\n",
       "      <td>0.76</td>\n",
       "      <td>0.78</td>\n",
       "      <td>0.78</td>\n",
       "      <td>0.78</td>\n",
       "      <td>0.18</td>\n",
       "    </tr>\n",
       "    <tr>\n",
       "      <th>RidgeClassifierCV</th>\n",
       "      <td>0.76</td>\n",
       "      <td>0.78</td>\n",
       "      <td>0.78</td>\n",
       "      <td>0.78</td>\n",
       "      <td>0.08</td>\n",
       "    </tr>\n",
       "    <tr>\n",
       "      <th>RidgeClassifier</th>\n",
       "      <td>0.76</td>\n",
       "      <td>0.78</td>\n",
       "      <td>0.78</td>\n",
       "      <td>0.78</td>\n",
       "      <td>0.07</td>\n",
       "    </tr>\n",
       "    <tr>\n",
       "      <th>LinearSVC</th>\n",
       "      <td>0.76</td>\n",
       "      <td>0.78</td>\n",
       "      <td>0.78</td>\n",
       "      <td>0.77</td>\n",
       "      <td>2.11</td>\n",
       "    </tr>\n",
       "    <tr>\n",
       "      <th>NuSVC</th>\n",
       "      <td>0.77</td>\n",
       "      <td>0.78</td>\n",
       "      <td>0.78</td>\n",
       "      <td>0.78</td>\n",
       "      <td>8.45</td>\n",
       "    </tr>\n",
       "    <tr>\n",
       "      <th>LogisticRegression</th>\n",
       "      <td>0.76</td>\n",
       "      <td>0.78</td>\n",
       "      <td>0.78</td>\n",
       "      <td>0.78</td>\n",
       "      <td>0.17</td>\n",
       "    </tr>\n",
       "    <tr>\n",
       "      <th>SVC</th>\n",
       "      <td>0.77</td>\n",
       "      <td>0.78</td>\n",
       "      <td>0.78</td>\n",
       "      <td>0.78</td>\n",
       "      <td>6.14</td>\n",
       "    </tr>\n",
       "    <tr>\n",
       "      <th>AdaBoostClassifier</th>\n",
       "      <td>0.76</td>\n",
       "      <td>0.78</td>\n",
       "      <td>0.78</td>\n",
       "      <td>0.77</td>\n",
       "      <td>1.25</td>\n",
       "    </tr>\n",
       "    <tr>\n",
       "      <th>SGDClassifier</th>\n",
       "      <td>0.75</td>\n",
       "      <td>0.77</td>\n",
       "      <td>0.77</td>\n",
       "      <td>0.76</td>\n",
       "      <td>0.16</td>\n",
       "    </tr>\n",
       "    <tr>\n",
       "      <th>BernoulliNB</th>\n",
       "      <td>0.71</td>\n",
       "      <td>0.76</td>\n",
       "      <td>0.76</td>\n",
       "      <td>0.72</td>\n",
       "      <td>0.07</td>\n",
       "    </tr>\n",
       "    <tr>\n",
       "      <th>LGBMClassifier</th>\n",
       "      <td>0.77</td>\n",
       "      <td>0.76</td>\n",
       "      <td>0.76</td>\n",
       "      <td>0.78</td>\n",
       "      <td>0.39</td>\n",
       "    </tr>\n",
       "    <tr>\n",
       "      <th>NearestCentroid</th>\n",
       "      <td>0.70</td>\n",
       "      <td>0.76</td>\n",
       "      <td>0.76</td>\n",
       "      <td>0.72</td>\n",
       "      <td>0.07</td>\n",
       "    </tr>\n",
       "    <tr>\n",
       "      <th>XGBClassifier</th>\n",
       "      <td>0.77</td>\n",
       "      <td>0.74</td>\n",
       "      <td>0.74</td>\n",
       "      <td>0.78</td>\n",
       "      <td>0.47</td>\n",
       "    </tr>\n",
       "    <tr>\n",
       "      <th>GaussianNB</th>\n",
       "      <td>0.66</td>\n",
       "      <td>0.74</td>\n",
       "      <td>0.74</td>\n",
       "      <td>0.68</td>\n",
       "      <td>0.06</td>\n",
       "    </tr>\n",
       "    <tr>\n",
       "      <th>RandomForestClassifier</th>\n",
       "      <td>0.79</td>\n",
       "      <td>0.72</td>\n",
       "      <td>0.72</td>\n",
       "      <td>0.79</td>\n",
       "      <td>2.69</td>\n",
       "    </tr>\n",
       "    <tr>\n",
       "      <th>QuadraticDiscriminantAnalysis</th>\n",
       "      <td>0.69</td>\n",
       "      <td>0.72</td>\n",
       "      <td>0.72</td>\n",
       "      <td>0.70</td>\n",
       "      <td>0.11</td>\n",
       "    </tr>\n",
       "    <tr>\n",
       "      <th>KNeighborsClassifier</th>\n",
       "      <td>0.71</td>\n",
       "      <td>0.71</td>\n",
       "      <td>0.71</td>\n",
       "      <td>0.72</td>\n",
       "      <td>0.25</td>\n",
       "    </tr>\n",
       "    <tr>\n",
       "      <th>PassiveAggressiveClassifier</th>\n",
       "      <td>0.70</td>\n",
       "      <td>0.71</td>\n",
       "      <td>0.71</td>\n",
       "      <td>0.71</td>\n",
       "      <td>0.08</td>\n",
       "    </tr>\n",
       "    <tr>\n",
       "      <th>BaggingClassifier</th>\n",
       "      <td>0.76</td>\n",
       "      <td>0.68</td>\n",
       "      <td>0.68</td>\n",
       "      <td>0.76</td>\n",
       "      <td>1.37</td>\n",
       "    </tr>\n",
       "    <tr>\n",
       "      <th>ExtraTreesClassifier</th>\n",
       "      <td>0.78</td>\n",
       "      <td>0.68</td>\n",
       "      <td>0.68</td>\n",
       "      <td>0.77</td>\n",
       "      <td>2.27</td>\n",
       "    </tr>\n",
       "    <tr>\n",
       "      <th>LabelSpreading</th>\n",
       "      <td>0.73</td>\n",
       "      <td>0.67</td>\n",
       "      <td>0.67</td>\n",
       "      <td>0.73</td>\n",
       "      <td>9.65</td>\n",
       "    </tr>\n",
       "    <tr>\n",
       "      <th>LabelPropagation</th>\n",
       "      <td>0.73</td>\n",
       "      <td>0.67</td>\n",
       "      <td>0.67</td>\n",
       "      <td>0.73</td>\n",
       "      <td>23.11</td>\n",
       "    </tr>\n",
       "    <tr>\n",
       "      <th>DecisionTreeClassifier</th>\n",
       "      <td>0.73</td>\n",
       "      <td>0.65</td>\n",
       "      <td>0.65</td>\n",
       "      <td>0.73</td>\n",
       "      <td>0.20</td>\n",
       "    </tr>\n",
       "    <tr>\n",
       "      <th>ExtraTreeClassifier</th>\n",
       "      <td>0.72</td>\n",
       "      <td>0.65</td>\n",
       "      <td>0.65</td>\n",
       "      <td>0.72</td>\n",
       "      <td>0.07</td>\n",
       "    </tr>\n",
       "    <tr>\n",
       "      <th>Perceptron</th>\n",
       "      <td>0.62</td>\n",
       "      <td>0.64</td>\n",
       "      <td>0.64</td>\n",
       "      <td>0.64</td>\n",
       "      <td>0.06</td>\n",
       "    </tr>\n",
       "    <tr>\n",
       "      <th>DummyClassifier</th>\n",
       "      <td>0.74</td>\n",
       "      <td>0.50</td>\n",
       "      <td>0.50</td>\n",
       "      <td>0.62</td>\n",
       "      <td>0.05</td>\n",
       "    </tr>\n",
       "  </tbody>\n",
       "</table>\n",
       "</div>"
      ],
      "text/plain": [
       "                               Accuracy  Balanced Accuracy  ROC AUC  F1 Score  \\\n",
       "Model                                                                           \n",
       "CalibratedClassifierCV             0.77               0.79     0.79      0.78   \n",
       "LinearDiscriminantAnalysis         0.76               0.78     0.78      0.78   \n",
       "RidgeClassifierCV                  0.76               0.78     0.78      0.78   \n",
       "RidgeClassifier                    0.76               0.78     0.78      0.78   \n",
       "LinearSVC                          0.76               0.78     0.78      0.77   \n",
       "NuSVC                              0.77               0.78     0.78      0.78   \n",
       "LogisticRegression                 0.76               0.78     0.78      0.78   \n",
       "SVC                                0.77               0.78     0.78      0.78   \n",
       "AdaBoostClassifier                 0.76               0.78     0.78      0.77   \n",
       "SGDClassifier                      0.75               0.77     0.77      0.76   \n",
       "BernoulliNB                        0.71               0.76     0.76      0.72   \n",
       "LGBMClassifier                     0.77               0.76     0.76      0.78   \n",
       "NearestCentroid                    0.70               0.76     0.76      0.72   \n",
       "XGBClassifier                      0.77               0.74     0.74      0.78   \n",
       "GaussianNB                         0.66               0.74     0.74      0.68   \n",
       "RandomForestClassifier             0.79               0.72     0.72      0.79   \n",
       "QuadraticDiscriminantAnalysis      0.69               0.72     0.72      0.70   \n",
       "KNeighborsClassifier               0.71               0.71     0.71      0.72   \n",
       "PassiveAggressiveClassifier        0.70               0.71     0.71      0.71   \n",
       "BaggingClassifier                  0.76               0.68     0.68      0.76   \n",
       "ExtraTreesClassifier               0.78               0.68     0.68      0.77   \n",
       "LabelSpreading                     0.73               0.67     0.67      0.73   \n",
       "LabelPropagation                   0.73               0.67     0.67      0.73   \n",
       "DecisionTreeClassifier             0.73               0.65     0.65      0.73   \n",
       "ExtraTreeClassifier                0.72               0.65     0.65      0.72   \n",
       "Perceptron                         0.62               0.64     0.64      0.64   \n",
       "DummyClassifier                    0.74               0.50     0.50      0.62   \n",
       "\n",
       "                               Time Taken  \n",
       "Model                                      \n",
       "CalibratedClassifierCV               0.54  \n",
       "LinearDiscriminantAnalysis           0.18  \n",
       "RidgeClassifierCV                    0.08  \n",
       "RidgeClassifier                      0.07  \n",
       "LinearSVC                            2.11  \n",
       "NuSVC                                8.45  \n",
       "LogisticRegression                   0.17  \n",
       "SVC                                  6.14  \n",
       "AdaBoostClassifier                   1.25  \n",
       "SGDClassifier                        0.16  \n",
       "BernoulliNB                          0.07  \n",
       "LGBMClassifier                       0.39  \n",
       "NearestCentroid                      0.07  \n",
       "XGBClassifier                        0.47  \n",
       "GaussianNB                           0.06  \n",
       "RandomForestClassifier               2.69  \n",
       "QuadraticDiscriminantAnalysis        0.11  \n",
       "KNeighborsClassifier                 0.25  \n",
       "PassiveAggressiveClassifier          0.08  \n",
       "BaggingClassifier                    1.37  \n",
       "ExtraTreesClassifier                 2.27  \n",
       "LabelSpreading                       9.65  \n",
       "LabelPropagation                    23.11  \n",
       "DecisionTreeClassifier               0.20  \n",
       "ExtraTreeClassifier                  0.07  \n",
       "Perceptron                           0.06  \n",
       "DummyClassifier                      0.05  "
      ]
     },
     "execution_count": 27,
     "metadata": {},
     "output_type": "execute_result"
    }
   ],
   "source": [
    "import lazypredict\n",
    "from lazypredict.Supervised import LazyClassifier\n",
    "\n",
    "clf = LazyClassifier()\n",
    "models, predictions = clf.fit(X_resampled, X_test_copy, y_resampled, y_test_copy.values.ravel())\n",
    "models"
   ]
  },
  {
   "cell_type": "markdown",
   "id": "181434e1",
   "metadata": {},
   "source": [
    "> - #### **Nice! better results, I will choose this.**\n",
    "> - #### **Since data is imbalancd , I will choose models based on  `Average of Balanced Accuracy, ROC AUC, and F1 Score`:**\n",
    ">> - `CalibratedClassifierCV`\n",
    "\n",
    ">>- `LinearDiscriminantAnalysis`\n",
    "\n",
    ">> - `RidgeClassifierCV`\n",
    "\n",
    ">>- `RidgeClassifier`\n",
    "\n",
    ">>- `LogisticRegression`"
   ]
  },
  {
   "cell_type": "markdown",
   "id": "745851c4",
   "metadata": {},
   "source": [
    "<p>&nbsp;</p>"
   ]
  },
  {
   "cell_type": "markdown",
   "id": "5c10ecb8",
   "metadata": {},
   "source": [
    "## **Pipeline Selection :**"
   ]
  },
  {
   "cell_type": "code",
   "execution_count": 33,
   "id": "240817e8",
   "metadata": {},
   "outputs": [],
   "source": [
    "from preprocessing.Pipelines import Pipeline1, Pipeline2\n",
    "from preprocessing.EvaluatePipeline import EvaluatePipeline"
   ]
  },
  {
   "cell_type": "code",
   "execution_count": 34,
   "id": "fa15e437",
   "metadata": {},
   "outputs": [],
   "source": [
    "from sklearn.model_selection import train_test_split\n",
    "\n",
    "X = df.drop('Churn', axis=1)\n",
    "y = df['Churn']\n",
    "\n",
    "X_train, X_test, y_train, y_test = train_test_split(X, y, test_size=0.2, random_state=42)"
   ]
  },
  {
   "cell_type": "code",
   "execution_count": null,
   "id": "b7e1ed53",
   "metadata": {},
   "outputs": [],
   "source": [
    "pipeline1 = Pipeline1()\n",
    "pipeline2 = Pipeline2()\n",
    "\n",
    "X_train1, y_train1 = pipeline1.fit_transform(X_resampled, y_resampled)\n",
    "X_train2, y_train2 = pipeline2.fit_transform(X_resampled, y_resampled)"
   ]
  },
  {
   "cell_type": "code",
   "execution_count": null,
   "metadata": {},
   "outputs": [],
   "source": [
    "evaluator_pipeline1 = EvaluatePipeline(X_train1, y_train1)\n",
    "results_pipeline1 = evaluator_pipeline1.evaluate()"
   ]
  },
  {
   "cell_type": "code",
   "execution_count": 45,
   "id": "893598d6",
   "metadata": {},
   "outputs": [
    {
     "data": {
      "text/html": [
       "<div>\n",
       "<style scoped>\n",
       "    .dataframe tbody tr th:only-of-type {\n",
       "        vertical-align: middle;\n",
       "    }\n",
       "\n",
       "    .dataframe tbody tr th {\n",
       "        vertical-align: top;\n",
       "    }\n",
       "\n",
       "    .dataframe thead th {\n",
       "        text-align: right;\n",
       "    }\n",
       "</style>\n",
       "<table border=\"1\" class=\"dataframe\">\n",
       "  <thead>\n",
       "    <tr style=\"text-align: right;\">\n",
       "      <th></th>\n",
       "      <th>accuracy</th>\n",
       "      <th>precision</th>\n",
       "      <th>recall</th>\n",
       "      <th>f1</th>\n",
       "      <th>balanced_accuracy</th>\n",
       "      <th>roc_auc</th>\n",
       "    </tr>\n",
       "  </thead>\n",
       "  <tbody>\n",
       "    <tr>\n",
       "      <th>LogisticRegression</th>\n",
       "      <td>0.80</td>\n",
       "      <td>0.67</td>\n",
       "      <td>0.52</td>\n",
       "      <td>0.58</td>\n",
       "      <td>0.71</td>\n",
       "      <td>0.85</td>\n",
       "    </tr>\n",
       "    <tr>\n",
       "      <th>RandomForest</th>\n",
       "      <td>0.79</td>\n",
       "      <td>0.64</td>\n",
       "      <td>0.47</td>\n",
       "      <td>0.54</td>\n",
       "      <td>0.69</td>\n",
       "      <td>0.82</td>\n",
       "    </tr>\n",
       "    <tr>\n",
       "      <th>XGBoost</th>\n",
       "      <td>0.78</td>\n",
       "      <td>0.60</td>\n",
       "      <td>0.51</td>\n",
       "      <td>0.55</td>\n",
       "      <td>0.69</td>\n",
       "      <td>0.81</td>\n",
       "    </tr>\n",
       "    <tr>\n",
       "      <th>CalibratedClassifierCV</th>\n",
       "      <td>0.80</td>\n",
       "      <td>0.67</td>\n",
       "      <td>0.51</td>\n",
       "      <td>0.58</td>\n",
       "      <td>0.71</td>\n",
       "      <td>0.85</td>\n",
       "    </tr>\n",
       "    <tr>\n",
       "      <th>ExtraTrees</th>\n",
       "      <td>0.78</td>\n",
       "      <td>0.61</td>\n",
       "      <td>0.46</td>\n",
       "      <td>0.53</td>\n",
       "      <td>0.68</td>\n",
       "      <td>0.79</td>\n",
       "    </tr>\n",
       "  </tbody>\n",
       "</table>\n",
       "</div>"
      ],
      "text/plain": [
       "                        accuracy  precision  recall   f1  balanced_accuracy  \\\n",
       "LogisticRegression          0.80       0.67    0.52 0.58               0.71   \n",
       "RandomForest                0.79       0.64    0.47 0.54               0.69   \n",
       "XGBoost                     0.78       0.60    0.51 0.55               0.69   \n",
       "CalibratedClassifierCV      0.80       0.67    0.51 0.58               0.71   \n",
       "ExtraTrees                  0.78       0.61    0.46 0.53               0.68   \n",
       "\n",
       "                        roc_auc  \n",
       "LogisticRegression         0.85  \n",
       "RandomForest               0.82  \n",
       "XGBoost                    0.81  \n",
       "CalibratedClassifierCV     0.85  \n",
       "ExtraTrees                 0.79  "
      ]
     },
     "execution_count": 45,
     "metadata": {},
     "output_type": "execute_result"
    }
   ],
   "source": [
    "results_pipeline1"
   ]
  },
  {
   "cell_type": "code",
   "execution_count": 39,
   "id": "4373e285",
   "metadata": {},
   "outputs": [],
   "source": [
    "evaluator_pipeline2 = EvaluatePipeline(X_train2, y_train2)\n",
    "results_pipeline2 = evaluator_pipeline2.evaluate()"
   ]
  },
  {
   "cell_type": "code",
   "execution_count": 46,
   "id": "a28da817",
   "metadata": {},
   "outputs": [
    {
     "data": {
      "text/html": [
       "<div>\n",
       "<style scoped>\n",
       "    .dataframe tbody tr th:only-of-type {\n",
       "        vertical-align: middle;\n",
       "    }\n",
       "\n",
       "    .dataframe tbody tr th {\n",
       "        vertical-align: top;\n",
       "    }\n",
       "\n",
       "    .dataframe thead th {\n",
       "        text-align: right;\n",
       "    }\n",
       "</style>\n",
       "<table border=\"1\" class=\"dataframe\">\n",
       "  <thead>\n",
       "    <tr style=\"text-align: right;\">\n",
       "      <th></th>\n",
       "      <th>accuracy</th>\n",
       "      <th>precision</th>\n",
       "      <th>recall</th>\n",
       "      <th>f1</th>\n",
       "      <th>balanced_accuracy</th>\n",
       "      <th>roc_auc</th>\n",
       "    </tr>\n",
       "  </thead>\n",
       "  <tbody>\n",
       "    <tr>\n",
       "      <th>LogisticRegression</th>\n",
       "      <td>0.80</td>\n",
       "      <td>0.66</td>\n",
       "      <td>0.50</td>\n",
       "      <td>0.57</td>\n",
       "      <td>0.70</td>\n",
       "      <td>0.84</td>\n",
       "    </tr>\n",
       "    <tr>\n",
       "      <th>RandomForest</th>\n",
       "      <td>0.79</td>\n",
       "      <td>0.63</td>\n",
       "      <td>0.48</td>\n",
       "      <td>0.54</td>\n",
       "      <td>0.69</td>\n",
       "      <td>0.82</td>\n",
       "    </tr>\n",
       "    <tr>\n",
       "      <th>XGBoost</th>\n",
       "      <td>0.78</td>\n",
       "      <td>0.61</td>\n",
       "      <td>0.51</td>\n",
       "      <td>0.55</td>\n",
       "      <td>0.69</td>\n",
       "      <td>0.81</td>\n",
       "    </tr>\n",
       "    <tr>\n",
       "      <th>CalibratedClassifierCV</th>\n",
       "      <td>0.80</td>\n",
       "      <td>0.67</td>\n",
       "      <td>0.50</td>\n",
       "      <td>0.57</td>\n",
       "      <td>0.70</td>\n",
       "      <td>0.84</td>\n",
       "    </tr>\n",
       "    <tr>\n",
       "      <th>ExtraTrees</th>\n",
       "      <td>0.77</td>\n",
       "      <td>0.59</td>\n",
       "      <td>0.46</td>\n",
       "      <td>0.52</td>\n",
       "      <td>0.67</td>\n",
       "      <td>0.79</td>\n",
       "    </tr>\n",
       "  </tbody>\n",
       "</table>\n",
       "</div>"
      ],
      "text/plain": [
       "                        accuracy  precision  recall   f1  balanced_accuracy  \\\n",
       "LogisticRegression          0.80       0.66    0.50 0.57               0.70   \n",
       "RandomForest                0.79       0.63    0.48 0.54               0.69   \n",
       "XGBoost                     0.78       0.61    0.51 0.55               0.69   \n",
       "CalibratedClassifierCV      0.80       0.67    0.50 0.57               0.70   \n",
       "ExtraTrees                  0.77       0.59    0.46 0.52               0.67   \n",
       "\n",
       "                        roc_auc  \n",
       "LogisticRegression         0.84  \n",
       "RandomForest               0.82  \n",
       "XGBoost                    0.81  \n",
       "CalibratedClassifierCV     0.84  \n",
       "ExtraTrees                 0.79  "
      ]
     },
     "execution_count": 46,
     "metadata": {},
     "output_type": "execute_result"
    }
   ],
   "source": [
    "results_pipeline2"
   ]
  },
  {
   "cell_type": "markdown",
   "id": "ed4485de",
   "metadata": {},
   "source": [
    "> - #### **Closer results, I will go with `Piplines 1`,  with resampling data i think all will be better.**\n"
   ]
  },
  {
   "cell_type": "markdown",
   "id": "bcd4f74f",
   "metadata": {},
   "source": [
    "## **Model Selection :**"
   ]
  },
  {
   "cell_type": "code",
   "execution_count": null,
   "metadata": {},
   "outputs": [],
   "source": [
    "from sklearn.metrics import accuracy_score, precision_score, recall_score, f1_score, balanced_accuracy_score, roc_auc_score\n",
    "from imblearn.over_sampling import RandomOverSampler\n",
    "from sklearn.linear_model import LogisticRegression, RidgeClassifier, RidgeClassifierCV\n",
    "from sklearn.calibration import CalibratedClassifierCV\n",
    "from sklearn.discriminant_analysis import LinearDiscriminantAnalysis\n",
    "from sklearn.linear_model import LogisticRegression, RidgeClassifier, RidgeClassifierCV\n",
    "from sklearn.calibration import CalibratedClassifierCV\n",
    "from sklearn.discriminant_analysis import LinearDiscriminantAnalysis\n",
    "from sklearn.ensemble import RandomForestClassifier\n",
    "from xgboost import XGBClassifier\n",
    "from sklearn.metrics import accuracy_score, precision_score, recall_score, f1_score, roc_auc_score, classification_report\n",
    "\n",
    "target = \"Churn\"\n",
    "X = df.drop(columns=[target])\n",
    "y = df[target]\n",
    "\n",
    "X_train_raw, X_test_raw, y_train_raw, y_test_raw = train_test_split(X, y, test_size=0.2, random_state=42, stratify=y)"
   ]
  },
  {
   "cell_type": "code",
   "execution_count": null,
   "id": "1623ba5e",
   "metadata": {},
   "outputs": [],
   "source": [
    "pipeline = Pipeline1()\n",
    "X_train_transformed, y_train_transformed = pipeline.fit_transform(X_train_raw, y_train_raw)\n",
    "X_test_transformed, y_test_transformed = pipeline.transform(X_test_raw, y_test_raw)"
   ]
  },
  {
   "cell_type": "code",
   "execution_count": 70,
   "id": "bdf9254d",
   "metadata": {},
   "outputs": [],
   "source": [
    "ros = RandomOverSampler(sampling_strategy='not majority', random_state=42)\n",
    "X_resampled, y_resampled = ros.fit_resample(X_train_transformed, y_train_transformed.values.ravel())"
   ]
  },
  {
   "cell_type": "code",
   "execution_count": null,
   "id": "8aa43cb2",
   "metadata": {},
   "outputs": [],
   "source": [
    "models = {\n",
    "    'CalibratedClassifierCV': CalibratedClassifierCV(base_estimator=LogisticRegression(max_iter=1000), cv=5),\n",
    "    'LinearDiscriminantAnalysis': LinearDiscriminantAnalysis(),\n",
    "    'RidgeClassifierCV': RidgeClassifierCV(),\n",
    "    'RidgeClassifier': RidgeClassifier(),\n",
    "    'LogisticRegression': LogisticRegression(max_iter=1000),\n",
    "    'RandomForest': RandomForestClassifier(n_estimators=100, random_state=42),\n",
    "    'XGBoost': XGBClassifier(use_label_encoder=False, eval_metric='logloss', random_state=42)\n",
    "}"
   ]
  },
  {
   "cell_type": "code",
   "execution_count": 73,
   "id": "fce62456",
   "metadata": {},
   "outputs": [
    {
     "name": "stdout",
     "output_type": "stream",
     "text": [
      "\n",
      " Training and Evaluating: CalibratedClassifierCV\n",
      "\n",
      " Classification Report:\n",
      "              precision    recall  f1-score   support\n",
      "\n",
      "           0       0.91      0.72      0.80      1035\n",
      "           1       0.51      0.80      0.62       374\n",
      "\n",
      "    accuracy                           0.74      1409\n",
      "   macro avg       0.71      0.76      0.71      1409\n",
      "weighted avg       0.80      0.74      0.75      1409\n",
      "\n",
      "\n",
      " Training and Evaluating: LinearDiscriminantAnalysis\n",
      "\n",
      " Classification Report:\n",
      "              precision    recall  f1-score   support\n",
      "\n",
      "           0       0.91      0.71      0.80      1035\n",
      "           1       0.50      0.81      0.62       374\n",
      "\n",
      "    accuracy                           0.74      1409\n",
      "   macro avg       0.71      0.76      0.71      1409\n",
      "weighted avg       0.80      0.74      0.75      1409\n",
      "\n",
      "\n",
      " Training and Evaluating: RidgeClassifierCV\n",
      "\n",
      " Classification Report:\n",
      "              precision    recall  f1-score   support\n",
      "\n",
      "           0       0.91      0.71      0.80      1035\n",
      "           1       0.50      0.81      0.62       374\n",
      "\n",
      "    accuracy                           0.74      1409\n",
      "   macro avg       0.71      0.76      0.71      1409\n",
      "weighted avg       0.80      0.74      0.75      1409\n",
      "\n",
      "\n",
      " Training and Evaluating: RidgeClassifier\n",
      "\n",
      " Classification Report:\n",
      "              precision    recall  f1-score   support\n",
      "\n",
      "           0       0.91      0.71      0.80      1035\n",
      "           1       0.50      0.81      0.62       374\n",
      "\n",
      "    accuracy                           0.73      1409\n",
      "   macro avg       0.71      0.76      0.71      1409\n",
      "weighted avg       0.80      0.73      0.75      1409\n",
      "\n",
      "\n",
      " Training and Evaluating: LogisticRegression\n",
      "\n",
      " Classification Report:\n",
      "              precision    recall  f1-score   support\n",
      "\n",
      "           0       0.91      0.72      0.80      1035\n",
      "           1       0.51      0.80      0.62       374\n",
      "\n",
      "    accuracy                           0.74      1409\n",
      "   macro avg       0.71      0.76      0.71      1409\n",
      "weighted avg       0.80      0.74      0.75      1409\n",
      "\n",
      "\n",
      " Training and Evaluating: RandomForest\n",
      "\n",
      " Classification Report:\n",
      "              precision    recall  f1-score   support\n",
      "\n",
      "           0       0.85      0.85      0.85      1035\n",
      "           1       0.58      0.59      0.58       374\n",
      "\n",
      "    accuracy                           0.78      1409\n",
      "   macro avg       0.72      0.72      0.72      1409\n",
      "weighted avg       0.78      0.78      0.78      1409\n",
      "\n",
      "\n",
      " Training and Evaluating: XGBoost\n",
      "\n",
      " Classification Report:\n",
      "              precision    recall  f1-score   support\n",
      "\n",
      "           0       0.88      0.80      0.84      1035\n",
      "           1       0.55      0.69      0.62       374\n",
      "\n",
      "    accuracy                           0.77      1409\n",
      "   macro avg       0.72      0.74      0.73      1409\n",
      "weighted avg       0.79      0.77      0.78      1409\n",
      "\n"
     ]
    }
   ],
   "source": [
    "for name, model in models.items():\n",
    "    print(f\"\\n Training and Evaluating: {name}\")\n",
    "    model.fit(X_resampled, y_resampled)\n",
    "\n",
    "    y_pred = model.predict(X_test_transformed)\n",
    "\n",
    "    print(\"\\n Classification Report:\")\n",
    "    print(classification_report(y_test_transformed, y_pred))"
   ]
  },
  {
   "cell_type": "markdown",
   "id": "6560a3fb",
   "metadata": {},
   "source": [
    "> - #### **Closer results!, but I will go with `Logistic Regression` because it has a good balance and high recall `great for catching churners`.**"
   ]
  },
  {
   "cell_type": "markdown",
   "id": "3823efa2",
   "metadata": {},
   "source": [
    "<p>&nbsp;</p>"
   ]
  },
  {
   "cell_type": "markdown",
   "id": "76287a4a",
   "metadata": {},
   "source": [
    "## **Fine Tuning our best model  :**"
   ]
  },
  {
   "cell_type": "code",
   "execution_count": 77,
   "id": "8d1dfb7c",
   "metadata": {},
   "outputs": [],
   "source": [
    "from sklearn.model_selection import GridSearchCV"
   ]
  },
  {
   "cell_type": "code",
   "execution_count": null,
   "id": "fa537b39",
   "metadata": {},
   "outputs": [],
   "source": [
    "logreg = LogisticRegression(max_iter=10000)\n",
    "\n",
    "param_grid = {\n",
    "    'C': [0.01, 0.1, 1, 10, 100],                \n",
    "    'penalty': ['l2', 'l1'],                     \n",
    "    'solver': ['liblinear', 'saga'],             \n",
    "    'class_weight': [None, 'balanced']           \n",
    "}\n",
    "\n",
    "grid_search = GridSearchCV(estimator=logreg, param_grid=param_grid, \n",
    "                           cv=5, scoring='accuracy', n_jobs=-1, verbose=1)"
   ]
  },
  {
   "cell_type": "code",
   "execution_count": 82,
   "id": "b37d4d5c",
   "metadata": {},
   "outputs": [
    {
     "name": "stdout",
     "output_type": "stream",
     "text": [
      "Fitting 5 folds for each of 40 candidates, totalling 200 fits\n",
      "Best Parameters: {'C': 0.1, 'class_weight': 'balanced', 'penalty': 'l1', 'solver': 'liblinear'}\n"
     ]
    }
   ],
   "source": [
    "grid_search.fit(X_resampled, y_resampled)\n",
    "print(\"Best Parameters:\", grid_search.best_params_)"
   ]
  },
  {
   "cell_type": "code",
   "execution_count": 98,
   "id": "fb7bb70f",
   "metadata": {},
   "outputs": [],
   "source": [
    "best_estimator = grid_search.best_estimator_\n",
    "y_pred = best_estimator.predict(X_test_transformed)"
   ]
  },
  {
   "cell_type": "code",
   "execution_count": 99,
   "id": "00c29a25",
   "metadata": {},
   "outputs": [
    {
     "name": "stdout",
     "output_type": "stream",
     "text": [
      "              precision    recall  f1-score   support\n",
      "\n",
      "           0       0.91      0.72      0.81      1035\n",
      "           1       0.51      0.80      0.63       374\n",
      "\n",
      "    accuracy                           0.75      1409\n",
      "   macro avg       0.71      0.76      0.72      1409\n",
      "weighted avg       0.81      0.75      0.76      1409\n",
      "\n"
     ]
    }
   ],
   "source": [
    "print(classification_report(y_test_transformed, y_pred))"
   ]
  },
  {
   "cell_type": "code",
   "execution_count": 110,
   "id": "edd4ab1b",
   "metadata": {},
   "outputs": [
    {
     "name": "stdout",
     "output_type": "stream",
     "text": [
      "Accuracy on train set = 0.772\n",
      "F1 on train set = 0.779\n",
      "Auc on train set = 0.853\n",
      "----------------------------------\n",
      "Accuracy on test set = 0.746\n",
      "F1 on test set = 0.627\n",
      "Auc on test set = 0.850\n"
     ]
    }
   ],
   "source": [
    "best_estimator.fit(X_resampled, y_resampled)\n",
    "train_pred = best_estimator.predict(X_resampled)\n",
    "train_scores = best_estimator.decision_function(X_resampled)\n",
    "\n",
    "print(f\"Accuracy on train set = {accuracy_score(y_resampled, train_pred):.3f}\")\n",
    "print(f\"F1 on train set = {f1_score(y_resampled, train_pred):.3f}\")\n",
    "print(f\"Auc on train set = {roc_auc_score(y_resampled, train_scores):.3f}\")\n",
    "\n",
    "print(\"----------------------------------\")\n",
    "\n",
    "test_pred = best_estimator.predict(X_test_transformed)\n",
    "test_scores = best_estimator.decision_function(X_test_transformed)\n",
    "print(f\"Accuracy on test set = {accuracy_score(y_test_transformed, test_pred):.3f}\")\n",
    "print(f\"F1 on test set = {f1_score(y_test_transformed, test_pred):.3f}\")\n",
    "print(f\"Auc on test set = {roc_auc_score(y_test_transformed, test_scores):.3f}\")"
   ]
  },
  {
   "cell_type": "markdown",
   "id": "46a46c72",
   "metadata": {},
   "source": [
    "### **Save our model :**"
   ]
  },
  {
   "cell_type": "code",
   "execution_count": 108,
   "id": "c912ec4a",
   "metadata": {},
   "outputs": [
    {
     "data": {
      "text/plain": [
       "['../models/Telco_Churn_Classifier.pkl']"
      ]
     },
     "execution_count": 108,
     "metadata": {},
     "output_type": "execute_result"
    }
   ],
   "source": [
    "import joblib\n",
    "\n",
    "joblib.dump(best_estimator, '../models/Telco_Churn_Classifier.pkl')"
   ]
  }
 ],
 "metadata": {
  "kernelspec": {
   "display_name": "Python 3",
   "language": "python",
   "name": "python3"
  },
  "language_info": {
   "codemirror_mode": {
    "name": "ipython",
    "version": 3
   },
   "file_extension": ".py",
   "mimetype": "text/x-python",
   "name": "python",
   "nbconvert_exporter": "python",
   "pygments_lexer": "ipython3",
   "version": "3.12.5"
  }
 },
 "nbformat": 4,
 "nbformat_minor": 5
}
