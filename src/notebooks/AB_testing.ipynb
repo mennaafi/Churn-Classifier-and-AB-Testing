{
 "cells": [
  {
   "cell_type": "markdown",
   "id": "ecccd89f",
   "metadata": {},
   "source": [
    "<center><h1><strong>AB Testing Customer Retention</strong></h1></center>"
   ]
  },
  {
   "cell_type": "markdown",
   "id": "ea94af15",
   "metadata": {},
   "source": [
    "<br><br><br><br>"
   ]
  },
  {
   "cell_type": "markdown",
   "id": "072a7a17",
   "metadata": {},
   "source": [
    "### **The Hypothesis** :\n",
    "\n",
    "> - ##### **Offering a `10% discount` on the next month’s subscription will `reduce churn` by `20% in high-churn-risk customers`.** \n",
    "\n",
    "### **Hypothesis Testing** :\n",
    "> **`Null Hypothesis (H₀)`: Offering a 10% discount does not reduce churn among high-risk customers.​**\n",
    "\n",
    "> **`Alternative Hypothesis (H₁)`: Offering a 10% discount reduces churn among high-risk customers.**"
   ]
  },
  {
   "cell_type": "markdown",
   "id": "c504240a",
   "metadata": {},
   "source": [
    "### **Some Setup :**"
   ]
  },
  {
   "cell_type": "code",
   "execution_count": 30,
   "id": "979adfe7",
   "metadata": {},
   "outputs": [],
   "source": [
    "import pandas as pd \n",
    "import numpy as np \n",
    "import matplotlib.pyplot as plt \n",
    "import seaborn as sns\n",
    "import sys\n",
    "import os\n",
    "from scipy import stats"
   ]
  },
  {
   "cell_type": "code",
   "execution_count": 3,
   "id": "50c11f5d",
   "metadata": {},
   "outputs": [],
   "source": [
    "src_path = os.path.abspath(os.path.join(os.getcwd(), '..'))\n",
    "if src_path not in sys.path:\n",
    "    sys.path.append(src_path)"
   ]
  },
  {
   "cell_type": "code",
   "execution_count": 4,
   "metadata": {},
   "outputs": [],
   "source": [
    "pd.set_option(\"display.max_columns\", None)\n",
    "pd.set_option(\"display.max_colwidth\", None)\n",
    "\n",
    "plt.style.use(\"seaborn-v0_8\")"
   ]
  },
  {
   "cell_type": "code",
   "execution_count": 5,
   "id": "499ce503",
   "metadata": {},
   "outputs": [],
   "source": [
    "import warnings\n",
    "warnings.simplefilter(action='ignore', category=FutureWarning)"
   ]
  },
  {
   "cell_type": "code",
   "execution_count": 6,
   "id": "a6f772ee",
   "metadata": {},
   "outputs": [],
   "source": [
    "from exploration.DataIngestion import DataIngestorFactory\n",
    "from exploration.DataInspection import (DataInspector, DataTypesInspectionStrategy, DescriptiveStatsInspectionStrategy, DataShapeInspectionStrategy,\n",
    "                             UniqueValuesInspectionStrategy, MissingValueInspectionStrategy, DuplicateRowInspectionStrategy, SkewnessInspectionStrategy)"
   ]
  },
  {
   "cell_type": "markdown",
   "id": "02e376a3",
   "metadata": {},
   "source": [
    "### **Let's get our data :**"
   ]
  },
  {
   "cell_type": "code",
   "execution_count": 7,
   "id": "3301aae7",
   "metadata": {},
   "outputs": [],
   "source": [
    "data_path = \"../../data/ab_test_dataset.csv\"\n",
    "_, file_extension = os.path.splitext(data_path)"
   ]
  },
  {
   "cell_type": "code",
   "execution_count": 8,
   "id": "302076f3",
   "metadata": {},
   "outputs": [
    {
     "data": {
      "text/html": [
       "<div>\n",
       "<style scoped>\n",
       "    .dataframe tbody tr th:only-of-type {\n",
       "        vertical-align: middle;\n",
       "    }\n",
       "\n",
       "    .dataframe tbody tr th {\n",
       "        vertical-align: top;\n",
       "    }\n",
       "\n",
       "    .dataframe thead th {\n",
       "        text-align: right;\n",
       "    }\n",
       "</style>\n",
       "<table border=\"1\" class=\"dataframe\">\n",
       "  <thead>\n",
       "    <tr style=\"text-align: right;\">\n",
       "      <th></th>\n",
       "      <th>customer_id</th>\n",
       "      <th>is_high_risk</th>\n",
       "      <th>group</th>\n",
       "      <th>received_discount_offer</th>\n",
       "      <th>discount_amount</th>\n",
       "      <th>churned</th>\n",
       "      <th>tenure</th>\n",
       "      <th>monthly_charges</th>\n",
       "      <th>contract_type</th>\n",
       "    </tr>\n",
       "  </thead>\n",
       "  <tbody>\n",
       "    <tr>\n",
       "      <th>0</th>\n",
       "      <td>1001</td>\n",
       "      <td>True</td>\n",
       "      <td>A</td>\n",
       "      <td>False</td>\n",
       "      <td>0.00</td>\n",
       "      <td>False</td>\n",
       "      <td>46</td>\n",
       "      <td>74.91</td>\n",
       "      <td>Month-to-month</td>\n",
       "    </tr>\n",
       "    <tr>\n",
       "      <th>1</th>\n",
       "      <td>1002</td>\n",
       "      <td>False</td>\n",
       "      <td>NaN</td>\n",
       "      <td>False</td>\n",
       "      <td>0.00</td>\n",
       "      <td>True</td>\n",
       "      <td>32</td>\n",
       "      <td>73.81</td>\n",
       "      <td>Month-to-month</td>\n",
       "    </tr>\n",
       "    <tr>\n",
       "      <th>2</th>\n",
       "      <td>1003</td>\n",
       "      <td>False</td>\n",
       "      <td>NaN</td>\n",
       "      <td>False</td>\n",
       "      <td>0.00</td>\n",
       "      <td>False</td>\n",
       "      <td>54</td>\n",
       "      <td>91.57</td>\n",
       "      <td>One year</td>\n",
       "    </tr>\n",
       "    <tr>\n",
       "      <th>3</th>\n",
       "      <td>1004</td>\n",
       "      <td>True</td>\n",
       "      <td>B</td>\n",
       "      <td>True</td>\n",
       "      <td>6.54</td>\n",
       "      <td>True</td>\n",
       "      <td>20</td>\n",
       "      <td>65.39</td>\n",
       "      <td>Month-to-month</td>\n",
       "    </tr>\n",
       "    <tr>\n",
       "      <th>4</th>\n",
       "      <td>1005</td>\n",
       "      <td>True</td>\n",
       "      <td>B</td>\n",
       "      <td>True</td>\n",
       "      <td>9.08</td>\n",
       "      <td>False</td>\n",
       "      <td>33</td>\n",
       "      <td>90.82</td>\n",
       "      <td>Month-to-month</td>\n",
       "    </tr>\n",
       "  </tbody>\n",
       "</table>\n",
       "</div>"
      ],
      "text/plain": [
       "   customer_id  is_high_risk group  received_discount_offer  discount_amount  \\\n",
       "0         1001          True     A                    False             0.00   \n",
       "1         1002         False   NaN                    False             0.00   \n",
       "2         1003         False   NaN                    False             0.00   \n",
       "3         1004          True     B                     True             6.54   \n",
       "4         1005          True     B                     True             9.08   \n",
       "\n",
       "   churned  tenure  monthly_charges   contract_type  \n",
       "0    False      46            74.91  Month-to-month  \n",
       "1     True      32            73.81  Month-to-month  \n",
       "2    False      54            91.57        One year  \n",
       "3     True      20            65.39  Month-to-month  \n",
       "4    False      33            90.82  Month-to-month  "
      ]
     },
     "execution_count": 8,
     "metadata": {},
     "output_type": "execute_result"
    }
   ],
   "source": [
    "data_ingestor = DataIngestorFactory.get_data_ingestor(file_extension)\n",
    "df = data_ingestor.ingest(data_path)\n",
    "df.head()"
   ]
  },
  {
   "cell_type": "markdown",
   "id": "67159b6d",
   "metadata": {},
   "source": [
    "#### **Data Shape** :"
   ]
  },
  {
   "cell_type": "code",
   "execution_count": 9,
   "id": "efc48602",
   "metadata": {},
   "outputs": [
    {
     "name": "stdout",
     "output_type": "stream",
     "text": [
      "\n",
      "Number of rows (observations): 365\n",
      "\n",
      "Number of columns (features): 9\n"
     ]
    }
   ],
   "source": [
    "inspector = DataInspector(DataShapeInspectionStrategy())\n",
    "inspector.execute_strategy(df)"
   ]
  },
  {
   "cell_type": "markdown",
   "id": "5036bb1f",
   "metadata": {},
   "source": [
    "#### **Data Types :**"
   ]
  },
  {
   "cell_type": "code",
   "execution_count": 10,
   "id": "7f9c4596",
   "metadata": {},
   "outputs": [
    {
     "name": "stdout",
     "output_type": "stream",
     "text": [
      "\n",
      "Data Types and Non-null Counts:\n",
      "<class 'pandas.core.frame.DataFrame'>\n",
      "RangeIndex: 365 entries, 0 to 364\n",
      "Data columns (total 9 columns):\n",
      " #   Column                   Non-Null Count  Dtype  \n",
      "---  ------                   --------------  -----  \n",
      " 0   customer_id              365 non-null    int64  \n",
      " 1   is_high_risk             365 non-null    bool   \n",
      " 2   group                    218 non-null    object \n",
      " 3   received_discount_offer  365 non-null    bool   \n",
      " 4   discount_amount          365 non-null    float64\n",
      " 5   churned                  365 non-null    bool   \n",
      " 6   tenure                   365 non-null    int64  \n",
      " 7   monthly_charges          365 non-null    float64\n",
      " 8   contract_type            365 non-null    object \n",
      "dtypes: bool(3), float64(2), int64(2), object(2)\n",
      "memory usage: 18.3+ KB\n",
      "None\n"
     ]
    }
   ],
   "source": [
    "inspector.set_strategy(DataTypesInspectionStrategy())\n",
    "inspector.execute_strategy(df)"
   ]
  },
  {
   "cell_type": "markdown",
   "id": "c07e7f78",
   "metadata": {},
   "source": [
    "#### **Descriptive Statistics :**"
   ]
  },
  {
   "cell_type": "code",
   "execution_count": 11,
   "metadata": {},
   "outputs": [
    {
     "name": "stdout",
     "output_type": "stream",
     "text": [
      "\n",
      "Descriptive Statistics (Numerical Features):\n",
      "       customer_id  discount_amount      tenure  monthly_charges\n",
      "count   365.000000       365.000000  365.000000       365.000000\n",
      "mean   1183.000000         2.060164   35.082192        75.993808\n",
      "std     105.510663         3.461045   20.107919        13.728615\n",
      "min    1001.000000         0.000000    1.000000        50.130000\n",
      "25%    1092.000000         0.000000   19.000000        65.810000\n",
      "50%    1183.000000         0.000000   36.000000        76.820000\n",
      "75%    1274.000000         5.520000   50.000000        87.530000\n",
      "max    1365.000000         9.990000   71.000000        99.880000\n",
      "\n",
      "Descriptive Statistics (Categorical Features):\n",
      "       group   contract_type\n",
      "count    218             365\n",
      "unique     2               3\n",
      "top        A  Month-to-month\n",
      "freq     119             255\n"
     ]
    }
   ],
   "source": [
    "inspector.set_strategy(DescriptiveStatsInspectionStrategy())\n",
    "inspector.execute_strategy(df)"
   ]
  },
  {
   "cell_type": "markdown",
   "id": "3511b90c",
   "metadata": {},
   "source": [
    "#### **Check Missing Values :**"
   ]
  },
  {
   "cell_type": "code",
   "execution_count": 12,
   "id": "ccc84436",
   "metadata": {},
   "outputs": [
    {
     "data": {
      "image/png": "[encoded data removed]",
      "text/plain": [
       "<Figure size 600x600 with 1 Axes>"
      ]
     },
     "metadata": {},
     "output_type": "display_data"
    }
   ],
   "source": [
    "inspector.set_strategy(MissingValueInspectionStrategy())\n",
    "inspector.execute_strategy(df)"
   ]
  },
  {
   "cell_type": "markdown",
   "id": "4414bab6",
   "metadata": {},
   "source": [
    "\n",
    "\n",
    "> **This is because customers not labeled as high-risk were assigned 'N/A' for the group column**\n",
    "> >  - The string 'N/A' is automatically interpreted as a missing value (NaN), we can treat 'N/A' as a normal string."
   ]
  },
  {
   "cell_type": "code",
   "execution_count": 13,
   "id": "db41b1a5",
   "metadata": {},
   "outputs": [
    {
     "name": "stdout",
     "output_type": "stream",
     "text": [
      "Number of missing values = 0\n"
     ]
    }
   ],
   "source": [
    "df['group'] = df['group'].fillna('N/A')\n",
    "inspector.set_strategy(MissingValueInspectionStrategy())\n",
    "inspector.execute_strategy(df)"
   ]
  },
  {
   "cell_type": "markdown",
   "id": "e3364d29",
   "metadata": {},
   "source": [
    "#### **No. of Duplicated Rows** :"
   ]
  },
  {
   "cell_type": "code",
   "execution_count": 14,
   "id": "3e840456",
   "metadata": {},
   "outputs": [
    {
     "name": "stdout",
     "output_type": "stream",
     "text": [
      "nNumber of Duplicate Rows: 0\n"
     ]
    }
   ],
   "source": [
    "inspector.set_strategy(DuplicateRowInspectionStrategy())\n",
    "inspector.execute_strategy(df)"
   ]
  },
  {
   "cell_type": "markdown",
   "id": "9efe0644",
   "metadata": {},
   "source": [
    "#### **Unique values** :"
   ]
  },
  {
   "cell_type": "code",
   "execution_count": 15,
   "id": "194b7c23",
   "metadata": {},
   "outputs": [
    {
     "name": "stdout",
     "output_type": "stream",
     "text": [
      "\n",
      "Unique Values and Their Counts:\n",
      "\n",
      "Column: customer_id\n",
      "Number of unique values: 365\n",
      "\n",
      "Column: is_high_risk\n",
      "Number of unique values: 2\n",
      "Unique Values: [ True False]\n",
      "\n",
      "Column: group\n",
      "Number of unique values: 3\n",
      "Unique Values: ['A' 'N/A' 'B']\n",
      "\n",
      "Column: received_discount_offer\n",
      "Number of unique values: 2\n",
      "Unique Values: [False  True]\n",
      "\n",
      "Column: discount_amount\n",
      "Number of unique values: 90\n",
      "\n",
      "Column: churned\n",
      "Number of unique values: 2\n",
      "Unique Values: [False  True]\n",
      "\n",
      "Column: tenure\n",
      "Number of unique values: 71\n",
      "\n",
      "Column: monthly_charges\n",
      "Number of unique values: 344\n",
      "\n",
      "Column: contract_type\n",
      "Number of unique values: 3\n",
      "Unique Values: ['Month-to-month' 'One year' 'Two year']\n"
     ]
    }
   ],
   "source": [
    "inspector.set_strategy(UniqueValuesInspectionStrategy())\n",
    "inspector.execute_strategy(df)"
   ]
  },
  {
   "cell_type": "markdown",
   "id": "a8d8d123",
   "metadata": {},
   "source": [
    "<br><br><br><br>"
   ]
  },
  {
   "cell_type": "markdown",
   "id": "235c89db",
   "metadata": {},
   "source": [
    "# **Let's start A/B Test --->**\n",
    "#### **Data Balance Check :**"
   ]
  },
  {
   "cell_type": "code",
   "execution_count": 16,
   "id": "e6395c8c",
   "metadata": {},
   "outputs": [
    {
     "data": {
      "text/plain": [
       "group\n",
       "N/A    147\n",
       "A      119\n",
       "B       99\n",
       "Name: count, dtype: int64"
      ]
     },
     "execution_count": 16,
     "metadata": {},
     "output_type": "execute_result"
    }
   ],
   "source": [
    "df['group'].value_counts()"
   ]
  },
  {
   "cell_type": "markdown",
   "id": "b11609f9",
   "metadata": {},
   "source": [
    "> - **Not perfectly equal, but fairly close.**"
   ]
  },
  {
   "cell_type": "markdown",
   "id": "e93c18ab",
   "metadata": {},
   "source": [
    "### **Filter high-risk customers only (who are part of the A/B test)**\n",
    "#### **Group A : Control Group who `did NOT` receive discount**\n",
    "#### **Group B : Test Group who `did` receive discount**\n"
   ]
  },
  {
   "cell_type": "code",
   "execution_count": 17,
   "id": "4710c7c7",
   "metadata": {},
   "outputs": [],
   "source": [
    "df_ab = df[df['group'].isin(['A', 'B'])]"
   ]
  },
  {
   "cell_type": "code",
   "execution_count": 18,
   "id": "a8bcc23c",
   "metadata": {},
   "outputs": [],
   "source": [
    "control_group = df_ab[(df_ab['group'] == 'A') & (df_ab['received_discount_offer'] == False)]\n",
    "test_group = df_ab[(df_ab['group'] == 'B') & (df_ab['received_discount_offer'] == True)]"
   ]
  },
  {
   "cell_type": "code",
   "execution_count": 19,
   "id": "71eca37f",
   "metadata": {},
   "outputs": [
    {
     "name": "stdout",
     "output_type": "stream",
     "text": [
      "Control Group Size: 119\n",
      "Test Group Size: 99\n"
     ]
    }
   ],
   "source": [
    "print(\"Control Group Size:\", len(control_group))\n",
    "print(\"Test Group Size:\", len(test_group))"
   ]
  },
  {
   "cell_type": "code",
   "execution_count": 20,
   "id": "4bdfee55",
   "metadata": {},
   "outputs": [
    {
     "name": "stdout",
     "output_type": "stream",
     "text": [
      "Control Group Sample:\n"
     ]
    },
    {
     "data": {
      "text/html": [
       "<div>\n",
       "<style scoped>\n",
       "    .dataframe tbody tr th:only-of-type {\n",
       "        vertical-align: middle;\n",
       "    }\n",
       "\n",
       "    .dataframe tbody tr th {\n",
       "        vertical-align: top;\n",
       "    }\n",
       "\n",
       "    .dataframe thead th {\n",
       "        text-align: right;\n",
       "    }\n",
       "</style>\n",
       "<table border=\"1\" class=\"dataframe\">\n",
       "  <thead>\n",
       "    <tr style=\"text-align: right;\">\n",
       "      <th></th>\n",
       "      <th>customer_id</th>\n",
       "      <th>is_high_risk</th>\n",
       "      <th>group</th>\n",
       "      <th>received_discount_offer</th>\n",
       "      <th>discount_amount</th>\n",
       "      <th>churned</th>\n",
       "      <th>tenure</th>\n",
       "      <th>monthly_charges</th>\n",
       "      <th>contract_type</th>\n",
       "    </tr>\n",
       "  </thead>\n",
       "  <tbody>\n",
       "    <tr>\n",
       "      <th>0</th>\n",
       "      <td>1001</td>\n",
       "      <td>True</td>\n",
       "      <td>A</td>\n",
       "      <td>False</td>\n",
       "      <td>0.0</td>\n",
       "      <td>False</td>\n",
       "      <td>46</td>\n",
       "      <td>74.91</td>\n",
       "      <td>Month-to-month</td>\n",
       "    </tr>\n",
       "    <tr>\n",
       "      <th>5</th>\n",
       "      <td>1006</td>\n",
       "      <td>True</td>\n",
       "      <td>A</td>\n",
       "      <td>False</td>\n",
       "      <td>0.0</td>\n",
       "      <td>True</td>\n",
       "      <td>40</td>\n",
       "      <td>98.40</td>\n",
       "      <td>One year</td>\n",
       "    </tr>\n",
       "    <tr>\n",
       "      <th>10</th>\n",
       "      <td>1011</td>\n",
       "      <td>True</td>\n",
       "      <td>A</td>\n",
       "      <td>False</td>\n",
       "      <td>0.0</td>\n",
       "      <td>False</td>\n",
       "      <td>33</td>\n",
       "      <td>71.03</td>\n",
       "      <td>Month-to-month</td>\n",
       "    </tr>\n",
       "    <tr>\n",
       "      <th>13</th>\n",
       "      <td>1014</td>\n",
       "      <td>True</td>\n",
       "      <td>A</td>\n",
       "      <td>False</td>\n",
       "      <td>0.0</td>\n",
       "      <td>False</td>\n",
       "      <td>66</td>\n",
       "      <td>90.25</td>\n",
       "      <td>Month-to-month</td>\n",
       "    </tr>\n",
       "    <tr>\n",
       "      <th>14</th>\n",
       "      <td>1015</td>\n",
       "      <td>True</td>\n",
       "      <td>A</td>\n",
       "      <td>False</td>\n",
       "      <td>0.0</td>\n",
       "      <td>True</td>\n",
       "      <td>38</td>\n",
       "      <td>95.16</td>\n",
       "      <td>One year</td>\n",
       "    </tr>\n",
       "  </tbody>\n",
       "</table>\n",
       "</div>"
      ],
      "text/plain": [
       "    customer_id  is_high_risk group  received_discount_offer  discount_amount  \\\n",
       "0          1001          True     A                    False              0.0   \n",
       "5          1006          True     A                    False              0.0   \n",
       "10         1011          True     A                    False              0.0   \n",
       "13         1014          True     A                    False              0.0   \n",
       "14         1015          True     A                    False              0.0   \n",
       "\n",
       "    churned  tenure  monthly_charges   contract_type  \n",
       "0     False      46            74.91  Month-to-month  \n",
       "5      True      40            98.40        One year  \n",
       "10    False      33            71.03  Month-to-month  \n",
       "13    False      66            90.25  Month-to-month  \n",
       "14     True      38            95.16        One year  "
      ]
     },
     "execution_count": 20,
     "metadata": {},
     "output_type": "execute_result"
    }
   ],
   "source": [
    "print(\"Control Group Sample:\")\n",
    "control_group.head()"
   ]
  },
  {
   "cell_type": "code",
   "execution_count": 21,
   "id": "13e0416a",
   "metadata": {},
   "outputs": [
    {
     "name": "stdout",
     "output_type": "stream",
     "text": [
      "Test Group Sample:\n"
     ]
    },
    {
     "data": {
      "text/html": [
       "<div>\n",
       "<style scoped>\n",
       "    .dataframe tbody tr th:only-of-type {\n",
       "        vertical-align: middle;\n",
       "    }\n",
       "\n",
       "    .dataframe tbody tr th {\n",
       "        vertical-align: top;\n",
       "    }\n",
       "\n",
       "    .dataframe thead th {\n",
       "        text-align: right;\n",
       "    }\n",
       "</style>\n",
       "<table border=\"1\" class=\"dataframe\">\n",
       "  <thead>\n",
       "    <tr style=\"text-align: right;\">\n",
       "      <th></th>\n",
       "      <th>customer_id</th>\n",
       "      <th>is_high_risk</th>\n",
       "      <th>group</th>\n",
       "      <th>received_discount_offer</th>\n",
       "      <th>discount_amount</th>\n",
       "      <th>churned</th>\n",
       "      <th>tenure</th>\n",
       "      <th>monthly_charges</th>\n",
       "      <th>contract_type</th>\n",
       "    </tr>\n",
       "  </thead>\n",
       "  <tbody>\n",
       "    <tr>\n",
       "      <th>3</th>\n",
       "      <td>1004</td>\n",
       "      <td>True</td>\n",
       "      <td>B</td>\n",
       "      <td>True</td>\n",
       "      <td>6.54</td>\n",
       "      <td>True</td>\n",
       "      <td>20</td>\n",
       "      <td>65.39</td>\n",
       "      <td>Month-to-month</td>\n",
       "    </tr>\n",
       "    <tr>\n",
       "      <th>4</th>\n",
       "      <td>1005</td>\n",
       "      <td>True</td>\n",
       "      <td>B</td>\n",
       "      <td>True</td>\n",
       "      <td>9.08</td>\n",
       "      <td>False</td>\n",
       "      <td>33</td>\n",
       "      <td>90.82</td>\n",
       "      <td>Month-to-month</td>\n",
       "    </tr>\n",
       "    <tr>\n",
       "      <th>6</th>\n",
       "      <td>1007</td>\n",
       "      <td>True</td>\n",
       "      <td>B</td>\n",
       "      <td>True</td>\n",
       "      <td>5.44</td>\n",
       "      <td>False</td>\n",
       "      <td>32</td>\n",
       "      <td>54.42</td>\n",
       "      <td>Month-to-month</td>\n",
       "    </tr>\n",
       "    <tr>\n",
       "      <th>15</th>\n",
       "      <td>1016</td>\n",
       "      <td>True</td>\n",
       "      <td>B</td>\n",
       "      <td>True</td>\n",
       "      <td>8.09</td>\n",
       "      <td>False</td>\n",
       "      <td>46</td>\n",
       "      <td>80.86</td>\n",
       "      <td>Month-to-month</td>\n",
       "    </tr>\n",
       "    <tr>\n",
       "      <th>19</th>\n",
       "      <td>1020</td>\n",
       "      <td>True</td>\n",
       "      <td>B</td>\n",
       "      <td>True</td>\n",
       "      <td>7.77</td>\n",
       "      <td>False</td>\n",
       "      <td>61</td>\n",
       "      <td>77.74</td>\n",
       "      <td>Month-to-month</td>\n",
       "    </tr>\n",
       "  </tbody>\n",
       "</table>\n",
       "</div>"
      ],
      "text/plain": [
       "    customer_id  is_high_risk group  received_discount_offer  discount_amount  \\\n",
       "3          1004          True     B                     True             6.54   \n",
       "4          1005          True     B                     True             9.08   \n",
       "6          1007          True     B                     True             5.44   \n",
       "15         1016          True     B                     True             8.09   \n",
       "19         1020          True     B                     True             7.77   \n",
       "\n",
       "    churned  tenure  monthly_charges   contract_type  \n",
       "3      True      20            65.39  Month-to-month  \n",
       "4     False      33            90.82  Month-to-month  \n",
       "6     False      32            54.42  Month-to-month  \n",
       "15    False      46            80.86  Month-to-month  \n",
       "19    False      61            77.74  Month-to-month  "
      ]
     },
     "execution_count": 21,
     "metadata": {},
     "output_type": "execute_result"
    }
   ],
   "source": [
    "print(\"Test Group Sample:\")\n",
    "test_group.head()"
   ]
  },
  {
   "cell_type": "markdown",
   "id": "a1eb0995",
   "metadata": {},
   "source": [
    "### **Track Churn Rates** :"
   ]
  },
  {
   "cell_type": "code",
   "execution_count": 32,
   "id": "8ffde2c9",
   "metadata": {},
   "outputs": [
    {
     "name": "stdout",
     "output_type": "stream",
     "text": [
      "Churn Rate\n",
      "-----------\n",
      "Control Group Churn Rate: 0.4118\n",
      "Test Group Churn Rate: 0.2323\n"
     ]
    }
   ],
   "source": [
    "control_churn_rate = control_group['churned'].mean()\n",
    "test_churn_rate = test_group['churned'].mean()\n",
    "\n",
    "print(\"Churn Rate\\n-----------\")\n",
    "print(\"Control Group Churn Rate:\", round(control_churn_rate, 4))\n",
    "print(\"Test Group Churn Rate:\", round(test_churn_rate, 4))\n"
   ]
  },
  {
   "cell_type": "code",
   "execution_count": 33,
   "id": "223e4f6c",
   "metadata": {},
   "outputs": [
    {
     "data": {
      "image/png": "[encoded data removed]",
      "text/plain": [
       "<Figure size 800x600 with 1 Axes>"
      ]
     },
     "metadata": {},
     "output_type": "display_data"
    }
   ],
   "source": [
    "plt.figure(figsize=(8, 6))\n",
    "sns.barplot(x=['Control Group', 'Test Group'], y=[control_churn_rate, test_churn_rate])\n",
    "plt.ylabel('Churn Rate')\n",
    "plt.title('Churn Rate Comparison')\n",
    "plt.show()"
   ]
  },
  {
   "cell_type": "markdown",
   "id": "697e3222",
   "metadata": {},
   "source": [
    "> **Insights :**\n",
    "> - **Control Group Churn Rate : 41.1%**\n",
    "> - **Test Group Churn Rate : 23.2%** \n",
    ">> - **`The churn rate for the test group is substantially lower, suggesting the discount may have influenced customer retention.`**"
   ]
  },
  {
   "cell_type": "markdown",
   "id": "df1263a9",
   "metadata": {},
   "source": [
    "### **Statistical Significance Testing** :"
   ]
  },
  {
   "cell_type": "code",
   "execution_count": 29,
   "id": "60daf5b8",
   "metadata": {},
   "outputs": [
    {
     "name": "stdout",
     "output_type": "stream",
     "text": [
      "T-statistic: 2.8835\n",
      "P-value: 0.0043306435961819306\n",
      "Reject the null hypothesis: The discount offer significantly reduces churn.\n"
     ]
    }
   ],
   "source": [
    "control_churn = control_group['churned'].astype(int)\n",
    "test_churn = test_group['churned'].astype(int)\n",
    "\n",
    "t_stat, p_value = stats.ttest_ind(\n",
    "    control_churn,\n",
    "    test_churn,\n",
    "    equal_var=False\n",
    ")\n",
    "\n",
    "print(\"T-statistic:\", round(t_stat, 4))\n",
    "print(\"P-value:\", p_value)\n",
    "\n",
    "alpha = 0.05\n",
    "if p_value < alpha:\n",
    "    print(\"Reject the null hypothesis: The discount offer significantly reduces churn.\")\n",
    "else:\n",
    "    print(\"Fail to reject the null hypothesis: No significant effect of the discount offer on churn.\")\n"
   ]
  },
  {
   "cell_type": "markdown",
   "id": "a71b2346",
   "metadata": {},
   "source": [
    "> #### **`Final conclusion :`**\n",
    "> - **The churn rate for the test group (23.2%) is substantially lower than that of the control group (41.1%).**\n",
    "> - **The statistical test confirms this difference is significant (p < 0.05), meaning the 10% discount offer successfully reduces churn.**\n",
    "\n",
    "### **`Action`:** **Consider rolling out the 10% discount offer to all high-risk customers to increase retention and customer lifetime value.**"
   ]
  }
 ],
 "metadata": {
  "kernelspec": {
   "display_name": "Python 3",
   "language": "python",
   "name": "python3"
  },
  "language_info": {
   "codemirror_mode": {
    "name": "ipython",
    "version": 3
   },
   "file_extension": ".py",
   "mimetype": "text/x-python",
   "name": "python",
   "nbconvert_exporter": "python",
   "pygments_lexer": "ipython3",
   "version": "3.12.5"
  }
 },
 "nbformat": 4,
 "nbformat_minor": 5
}
